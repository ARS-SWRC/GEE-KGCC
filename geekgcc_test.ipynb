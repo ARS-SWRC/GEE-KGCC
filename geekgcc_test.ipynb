{
  "cells": [
    {
      "cell_type": "markdown",
      "metadata": {
        "id": "view-in-github",
        "colab_type": "text"
      },
      "source": [
        "<a href=\"https://colab.research.google.com/github/ARS-SWRC/GEE-KGCC/blob/main/geekgcc_test.ipynb\" target=\"_parent\"><img src=\"https://colab.research.google.com/assets/colab-badge.svg\" alt=\"Open In Colab\"/></a>"
      ]
    },
    {
      "cell_type": "markdown",
      "source": [
        "**This Python notebook tests the functionality of GEE-KGCC and can be run in Google Colab. The WorldClim dataset is used as input, and the produced output is KGCC classifications for the northern hemisphere.**"
      ],
      "metadata": {
        "id": "gnCxdIkw4qgy"
      }
    },
    {
      "cell_type": "code",
      "source": [
        "!git clone https://github.com/ARS-SWRC/GEE-KGCC\n",
        "!pip install GEE-KGCC/geekgcc_package"
      ],
      "metadata": {
        "id": "aRTnXe9E4p3E"
      },
      "execution_count": null,
      "outputs": []
    },
    {
      "cell_type": "code",
      "source": [
        "import ee\n",
        "\n",
        "#This will open a web browser for log-in steps.\n",
        "ee.Authenticate()\n",
        "geeusername = 'yourusername' #Enter your GEE user name.\n",
        "geeproject = 'ee-yourusername' #Enter your GEE project name.\n",
        "ee.Initialize(project=geeproject)\n",
        "#The user must have an existing project.\n",
        "#Default project names are in the format: \"ee-yourusername\".\n",
        "#The web browser log-in steps assist with creating a project\n",
        "#or one may be created at https://code.earthengine.google.com/"
      ],
      "metadata": {
        "id": "okUDMphAuu8V"
      },
      "execution_count": null,
      "outputs": []
    },
    {
      "cell_type": "code",
      "source": [
        "#ee should be initialized before importing geekgcc.\n",
        "import geekgcc\n",
        "\n",
        "dl = False #Download to Google Drive True/False\n",
        "\n",
        "###############\n",
        "#PRE-PROCESSING\n",
        "###############\n",
        "worldclim_path = 'WORLDCLIM/V1/MONTHLY'\n",
        "ic = ee.ImageCollection(worldclim_path)\n",
        "\n",
        "#Northern hemisphere\n",
        "custom_geo = ee.Geometry.BBox(-180.00, 0.00, 179.99, 89.99)\n",
        "#Southern hemisphere\n",
        "#custom_geo = ee.Geometry.BBox(-180.00, 0.00, 179.99, -89.99)\n",
        "\n",
        "def clip_fn(im_obj):\n",
        "  im = ee.Image(im_obj)\n",
        "  clip_im = im.clip(custom_geo)\n",
        "  return clip_im\n",
        "\n",
        "ic_clip = ee.ImageCollection(ic.map(clip_fn))\n",
        "t_scaled_ic = ee.ImageCollection(ic_clip.select('tavg'))\n",
        "\n",
        "def unit_scaling_fn(im_obj):\n",
        "  scaled_im = ee.Image(im_obj)\n",
        "  im = scaled_im.multiply(0.1)\n",
        "  return im\n",
        "\n",
        "#####################\n",
        "#USER-SUPPLIED INPUTS\n",
        "#####################\n",
        "\n",
        "#Monthly mean precipitation (12 images)\n",
        "p_ic = ee.ImageCollection(ic_clip.select('prec'))\n",
        "#Monthly mean temperature (12 images)\n",
        "t_ic = ee.ImageCollection(t_scaled_ic.map(unit_scaling_fn))\n",
        "\n",
        "###############\n",
        "#CLASSIFICATION\n",
        "###############\n",
        "type_im = geekgcc.KGCC.classify(p_ic, t_ic, 'north')\n",
        "\n",
        "############\n",
        "#DOWNLOADING\n",
        "############\n",
        "if dl == True:\n",
        "  #Scale is a client-side object that can be determined from\n",
        "  #the first image in the collection used to calculate p_ic and t_ic.\n",
        "  scale = ic.first().projection().nominalScale().getInfo()\n",
        "  #client-side object of the downloaded geotif file name.\n",
        "  file_name = 'test_kgcc_map'\n",
        "  geekgcc.KGCC.download(type_im, custom_geo, scale, file_name)\n",
        "\n",
        "############\n",
        "#CLASS INDEX\n",
        "############\n",
        "#This is useful for looking up the class name.\n",
        "class_dict = geekgcc.KGCC.get_class_index()\n",
        "print('Lookup index for getting KGGC type from pixel value:')\n",
        "print(class_dict)"
      ],
      "metadata": {
        "id": "xSodIepMtLyy"
      },
      "execution_count": null,
      "outputs": []
    },
    {
      "cell_type": "code",
      "source": [
        "############\n",
        "#VISUALIZING\n",
        "############\n",
        "\n",
        "#Run this block to load an html map widget.\n",
        "#Should be run in own block (as currently done).\n",
        "#In Colab and other online notebook editors, use \"Map\"\n",
        "#to load the map widget.\n",
        "#On a desktop code editor or an editor without\n",
        "#an IPython Kernel use \"Map.save()\".\n",
        "\n",
        "import geemap\n",
        "geemap.ee_initialize()\n",
        "\n",
        "Map = geemap.Map(center=[40,-100], zoom=3)\n",
        "vis_params = geekgcc.KGCC.get_vis_params()\n",
        "Map.addLayer(type_im, vis_params)\n",
        "\n",
        "#Use \"Map.save()\" when running on a desktop code editor or outside of an\n",
        "#IPython Kernel.\n",
        "#This will save the map widget as an html doc in the working directory\n",
        "#Map.save('map.html')\n",
        "\n",
        "#Use \"Map\" when using an online web-based editor like Google Colab.\n",
        "Map"
      ],
      "metadata": {
        "id": "zi6PLnPVzlxQ"
      },
      "execution_count": null,
      "outputs": []
    }
  ],
  "metadata": {
    "colab": {
      "name": "scratchpad",
      "provenance": [],
      "include_colab_link": true
    },
    "kernelspec": {
      "display_name": "Python 3",
      "name": "python3"
    }
  },
  "nbformat": 4,
  "nbformat_minor": 0
}